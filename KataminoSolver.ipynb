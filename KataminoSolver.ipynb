{
 "cells": [
  {
   "cell_type": "code",
   "execution_count": 116,
   "id": "3e0e7e7a",
   "metadata": {},
   "outputs": [],
   "source": [
    "import numpy as np\n",
    "from matplotlib import pyplot as plt\n",
    "from matplotlib.colors import ListedColormap\n",
    "import copy\n",
    "import time"
   ]
  },
  {
   "cell_type": "code",
   "execution_count": 134,
   "id": "eceb02fd",
   "metadata": {},
   "outputs": [],
   "source": [
    "CMAP = ListedColormap(['white','royalblue','orange','saddlebrown','purple','deepskyblue','pink','yellow','dodgerblue','slategray','green','lightgreen','red'])\n",
    "def print_board(board):\n",
    "    plt.imshow(board,cmap=CMAP,vmin=0,vmax=12)\n",
    "    #plt.axis('off')\n",
    "    plt.xticks([])\n",
    "    plt.yticks([])\n",
    "    plt.show()"
   ]
  },
  {
   "cell_type": "code",
   "execution_count": 126,
   "id": "96aeee92",
   "metadata": {},
   "outputs": [],
   "source": [
    "def first_empty(row):\n",
    "    occupied = row > 0\n",
    "    if np.all(occupied):\n",
    "        return None\n",
    "    return occupied.tolist().index(False)\n",
    "\n",
    "def first_non_empty(row):    \n",
    "    if np.sum(row) == 0:\n",
    "        return None\n",
    "    occupied = row > 0\n",
    "    return occupied.tolist().index(True) \n",
    "\n",
    "def shift_upper_left(shape):\n",
    "    #shift up\n",
    "    news = np.copy(shape)\n",
    "    for axis in [0,1]:\n",
    "        sums = shape.sum(axis=axis)     \n",
    "        i = first_non_empty(sums) # what index has nonzero\n",
    "        news = np.roll(news,-i,axis= 1 - axis)\n",
    "    return news\n",
    "def matrix_strip(m):\n",
    "    newm = m[~np.all(m == 0, axis=1)]\n",
    "    return newm[:,~np.all(newm == 0, axis=0)]\n",
    "\n",
    "def get_piece_orientations(shape):\n",
    "    orient = [copy.deepcopy(shape)]\n",
    "    for flip in [False,True]:\n",
    "        newshape = copy.deepcopy(shape)\n",
    "        if flip:\n",
    "            newshape = np.flip(newshape,axis=0)\n",
    "            orient.append(newshape)\n",
    "        for angle in [90,180,270]:\n",
    "            orient.append(np.rot90(newshape,k=angle/90))\n",
    "            \n",
    "    orient = [matrix_strip(shift_upper_left(s)) for s in orient]\n",
    "    unique = [orient[0]]\n",
    "    for p in orient[1:]:\n",
    "        # check that p in not in orient\n",
    "        can_add = True\n",
    "        for p2 in unique:\n",
    "            if p.shape == p2.shape and np.all(p==p2):\n",
    "                can_add = False\n",
    "        if can_add:    \n",
    "            unique.append(p)\n",
    "    return unique"
   ]
  },
  {
   "cell_type": "code",
   "execution_count": 127,
   "id": "790144b7",
   "metadata": {},
   "outputs": [],
   "source": [
    "class PIECE:\n",
    "    def __init__(self,shape,value=None):\n",
    "        self.shape=np.array(shape)\n",
    "        if value is not None:\n",
    "            self.value=value\n",
    "            self.shape = self.shape*value\n",
    "        else:\n",
    "            self.value = np.max(shape)\n",
    "        \n",
    "        self.orientations = get_piece_orientations(self.shape)\n",
    "        \n",
    "    def display(self):\n",
    "        plt.title(f\"Piece {self.value}\")\n",
    "        print_board(self.shape)\n",
    "        \n",
    "    "
   ]
  },
  {
   "cell_type": "code",
   "execution_count": 128,
   "id": "6e5304c4",
   "metadata": {},
   "outputs": [],
   "source": [
    "PIECES = {}\n",
    "PIECES[1] = PIECE([[1,1,1,1,1]])\n",
    "PIECES[2] = PIECE([[1,1,1,1,0],\n",
    "                   [0,0,0,1,0]],2)\n",
    "PIECES[3] = PIECE([[1,1,1,1,0],\n",
    "                   [0,0,1,0,0]],3)\n",
    "PIECES[4] = PIECE([[1,1,1,0,0],\n",
    "                   [0,0,1,1,0]],4)\n",
    "PIECES[5] = PIECE([[1,1,1,0,0],\n",
    "                   [0,0,1,0,0],\n",
    "                   [0,0,1,0,0]],5)\n",
    "PIECES[6] = PIECE([[1,1,1,0,0],\n",
    "                   [0,1,1,0,0]],6)\n",
    "PIECES[7] = PIECE([[1,1,1,0,0],\n",
    "                   [1,0,1,0,0]],7)\n",
    "PIECES[8] = PIECE([[0,0,1,0,0],\n",
    "                   [1,1,1,0,0],\n",
    "                   [1,0,0,0,0]],8)\n",
    "PIECES[9] = PIECE([[0,1,0,0,0],\n",
    "                   [1,1,1,0,0],\n",
    "                   [1,0,0,0,0]],9)\n",
    "PIECES[10] = PIECE([[1,1,1,0,0],\n",
    "                    [0,1,0,0,0],\n",
    "                    [0,1,0,0,0]],10)\n",
    "PIECES[11] = PIECE([[1,1,0,0,0],\n",
    "                    [0,1,1,0,0],\n",
    "                    [0,0,1,0,0]],11)\n",
    "PIECES[12] = PIECE([[0,1,0,0,0],\n",
    "                    [1,1,1,0,0],\n",
    "                    [0,1,0,0,0]],12)"
   ]
  },
  {
   "cell_type": "code",
   "execution_count": 129,
   "id": "e1f4c46b",
   "metadata": {},
   "outputs": [],
   "source": [
    "def valid_placement(board,shape,r,c):\n",
    "    #check that piece does not go off board or overlap with any other pieces\n",
    "    nrows,ncols = shape.shape\n",
    "    \n",
    "    if nrows + r > board.shape[0]:\n",
    "        return False\n",
    "    if ncols + c > board.shape[1]:\n",
    "        return False    \n",
    "    \n",
    "    if np.any(board[r:r+nrows,c:c+ncols] * shape):\n",
    "        return False\n",
    "\n",
    "    return True\n",
    "\n",
    "def flood_fill(matrix,r,c,empty=0,fill=-1):\n",
    "    if r >= matrix.shape[0] or r < 0:\n",
    "        return matrix\n",
    "    if c >= matrix.shape[1] or c < 0:\n",
    "        return matrix\n",
    "    if matrix[r,c] == empty:\n",
    "        matrix[r,c] = fill\n",
    "        matrix = flood_fill(matrix,r,c+1)\n",
    "        matrix = flood_fill(matrix,r,c-1)\n",
    "        matrix = flood_fill(matrix,r+1,c)\n",
    "        matrix = flood_fill(matrix,r-1,c)\n",
    "    return matrix\n",
    "\n",
    "#find first unoccupied\n",
    "def flood(matrix,empty=0,fill=-1):\n",
    "    nrows,ncols = matrix.shape    \n",
    "    for r in range(nrows):     \n",
    "        for c in range(ncols-1,-1,-1):\n",
    "            if matrix[r,c] == empty:\n",
    "                return flood_fill(matrix,r,c,empty,fill)\n",
    "    return matrix    \n",
    "\n",
    "def contains_holes(board):\n",
    "    #flood from right most column and then compare counts?\n",
    "    flooded = flood(board.copy(),fill=-1)\n",
    "    nflooded = np.sum(flooded == -1)    \n",
    "    occupied = np.sum(board > 0)\n",
    "    #return (nflooded % 5) != 0\n",
    "    return nflooded + occupied != board.size\n",
    "    \n",
    "\n",
    "def find_boards(board,shape) -> list[np.array]:\n",
    "    first_row = first_non_empty(shape[:,0]) #first non-empty row \n",
    "    #for every row note the left most open square and try to put top-left index of piece there, if its a valid place then make that as a board\n",
    "    # otherwise return none\n",
    "    \n",
    "    boards = []\n",
    "    for row in range(first_row,board.shape[0]):\n",
    "        col = first_empty(board[row])\n",
    "        if col == None: #all filled\n",
    "            continue\n",
    "        row_to_place = row - first_row #in case 0,0 is not a value of a piece\n",
    "        if valid_placement(board,shape,row_to_place,col):\n",
    "            newb = board.copy()\n",
    "            newb[row_to_place:row_to_place + shape.shape[0],col:col + shape.shape[1]] += shape          \n",
    "            #plt.title(f\"find: {contains_holes(newb)}\")\n",
    "            #print_board(newb)\n",
    "            if contains_holes(newb):\n",
    "                #print(\"Rejecting: \")\n",
    "                #print_board(newb)\n",
    "                continue\n",
    "            boards.append(newb)\n",
    "    return boards"
   ]
  },
  {
   "cell_type": "code",
   "execution_count": 130,
   "id": "e170445c",
   "metadata": {},
   "outputs": [
    {
     "data": {
      "text/plain": [
       "False"
      ]
     },
     "execution_count": 130,
     "metadata": {},
     "output_type": "execute_result"
    }
   ],
   "source": [
    "m = np.zeros((5,12))\n",
    "m[:,5:] = 2\n",
    "m[1:4,1:4] = 5\n",
    "contains_holes(m)"
   ]
  },
  {
   "cell_type": "code",
   "execution_count": 135,
   "id": "2970d828",
   "metadata": {},
   "outputs": [
    {
     "data": {
      "image/png": "[encoded data removed]",
      "text/plain": [
       "<Figure size 640x480 with 1 Axes>"
      ]
     },
     "metadata": {},
     "output_type": "display_data"
    },
    {
     "data": {
      "image/png": "[encoded data removed]",
      "text/plain": [
       "<Figure size 640x480 with 1 Axes>"
      ]
     },
     "metadata": {},
     "output_type": "display_data"
    },
    {
     "data": {
      "image/png": "[encoded data removed]",
      "text/plain": [
       "<Figure size 640x480 with 1 Axes>"
      ]
     },
     "metadata": {},
     "output_type": "display_data"
    },
    {
     "data": {
      "image/png": "[encoded data removed]",
      "text/plain": [
       "<Figure size 640x480 with 1 Axes>"
      ]
     },
     "metadata": {},
     "output_type": "display_data"
    },
    {
     "data": {
      "image/png": "[encoded data removed]",
      "text/plain": [
       "<Figure size 640x480 with 1 Axes>"
      ]
     },
     "metadata": {},
     "output_type": "display_data"
    },
    {
     "data": {
      "image/png": "[encoded data removed]",
      "text/plain": [
       "<Figure size 640x480 with 1 Axes>"
      ]
     },
     "metadata": {},
     "output_type": "display_data"
    },
    {
     "data": {
      "image/png": "[encoded data removed]",
      "text/plain": [
       "<Figure size 640x480 with 1 Axes>"
      ]
     },
     "metadata": {},
     "output_type": "display_data"
    }
   ],
   "source": [
    "brds = find_boards(np.zeros((5,12)),PIECES[9].shape)\n",
    "print_board(brds[0])\n",
    "for shape in PIECES[6].orientations:\n",
    "    bs = find_boards(brds[0],shape)\n",
    "    for b in bs:\n",
    "        plt.title(contains_holes(b))\n",
    "        print_board(b)"
   ]
  },
  {
   "cell_type": "code",
   "execution_count": 122,
   "id": "46d54422",
   "metadata": {},
   "outputs": [],
   "source": [
    "class PathFinder:\n",
    "    def __init__(self,start_state,check_done,transition_func,hash_func,debug=False):\n",
    "        self.start = start_state\n",
    "        self.check_done = check_done\n",
    "        self.transition = transition_func\n",
    "        self.visited = set()\n",
    "        self.hash = hash_func\n",
    "        self.debug = debug\n",
    "    \n",
    "    def DFS(self):\n",
    "        self.start_time = time.time()\n",
    "        self.counter = 0\n",
    "        solution = self.DFS_helper(self.start)\n",
    "        print(f\"{self.counter} states searched in {time.time() - self.start_time:.2f} seconds\")\n",
    "        if solution is None:\n",
    "            print(f\"No solution found\")\n",
    "        else:\n",
    "            board,pieces = solution\n",
    "            print_board(board)\n",
    "    \n",
    "    def DFS_helper(self,start):\n",
    "        self.counter += 1\n",
    "        if self.debug:\n",
    "            print(f\"{time.time() - self.start_time:.2f} sec. Attempt {self.counter}\")\n",
    "            print_state(start)\n",
    "        if self.check_done(start):\n",
    "            return start\n",
    "        new_states = self.transition(start)\n",
    "        for state in new_states:\n",
    "            s_hash = self.hash(state)\n",
    "            if s_hash in self.visited:\n",
    "                continue\n",
    "            self.visited.add(s_hash)\n",
    "            assert state is not None\n",
    "            solution = self.DFS_helper(state)\n",
    "            if solution is not None:\n",
    "                return solution"
   ]
  },
  {
   "cell_type": "code",
   "execution_count": 123,
   "id": "359b3763",
   "metadata": {},
   "outputs": [],
   "source": [
    "def print_state(state):\n",
    "    plt.title(state[1])\n",
    "    print_board(state[0])\n",
    "\n",
    "def hash_func(state):\n",
    "    board,pieces = state\n",
    "    ll = board.flatten().tolist() + pieces\n",
    "    return \"\".join([str(x) for x in ll])\n",
    "# returns list of next possible states\n",
    "def transition_func(state):\n",
    "    board,piece_nums = state\n",
    "    if len(piece_nums)==0:\n",
    "        return []\n",
    "    new_states = []\n",
    "    for i in range(len(piece_nums)):\n",
    "        p = PIECES[piece_nums[i]]\n",
    "        rest_nums = piece_nums[:i] + piece_nums[i+1:]\n",
    "        boards = []  \n",
    "        for shape in p.orientations:\n",
    "            boards.extend(find_boards(board,shape))\n",
    "            new_states.extend([(b,rest_nums) for b in boards])\n",
    "    return new_states \n",
    "def check_done(state):\n",
    "    if state is None:\n",
    "        return False\n",
    "    board,pieces = state\n",
    "    if len(pieces) > 0:\n",
    "        return False\n",
    "    return np.all(board > 0)"
   ]
  },
  {
   "cell_type": "code",
   "execution_count": 124,
   "id": "eb082d29",
   "metadata": {},
   "outputs": [
    {
     "data": {
      "image/png": "[encoded data removed]",
      "text/plain": [
       "<Figure size 640x480 with 12 Axes>"
      ]
     },
     "metadata": {},
     "output_type": "display_data"
    }
   ],
   "source": [
    "fig, axs = plt.subplots(3, 4)\n",
    "for r in range(3):\n",
    "    for c in range(4):\n",
    "        i = r*4 + c \n",
    "        axs[r,c].imshow(PIECES[i+1].shape,cmap=CMAP,vmin=0,vmax=12)\n",
    "        axs[r,c].set_title(f\"Piece {i+1}\")\n",
    "        axs[r,c].axis('off')\n",
    "plt.show()"
   ]
  },
  {
   "cell_type": "markdown",
   "id": "b23c897a",
   "metadata": {},
   "source": [
    "## Choose which pieces and Solve"
   ]
  },
  {
   "cell_type": "code",
   "execution_count": 136,
   "id": "e9b6728b",
   "metadata": {},
   "outputs": [],
   "source": [
    "pieces = [1,2,3,4,5,6,7,8,9,10]#,11,12]\n",
    "#pieces = [2,3,10,6,11,8,5,4]\n"
   ]
  },
  {
   "cell_type": "code",
   "execution_count": 137,
   "id": "dd6f0eee",
   "metadata": {},
   "outputs": [
    {
     "name": "stdout",
     "output_type": "stream",
     "text": [
      "260 states searched in 0.46 seconds\n"
     ]
    },
    {
     "data": {
      "image/png": "[encoded data removed]",
      "text/plain": [
       "<Figure size 640x480 with 1 Axes>"
      ]
     },
     "metadata": {},
     "output_type": "display_data"
    }
   ],
   "source": [
    "np.random.shuffle(pieces)\n",
    "board = np.zeros((5,len(pieces))).astype(int)\n",
    "start_state = (board,pieces)\n",
    "solver = PathFinder(start_state,check_done,transition_func,hash_func,False)\n",
    "solver.DFS()"
   ]
  },
  {
   "cell_type": "code",
   "execution_count": null,
   "id": "12df08f8",
   "metadata": {},
   "outputs": [],
   "source": []
  }
 ],
 "metadata": {
  "kernelspec": {
   "display_name": "Python 3 (ipykernel)",
   "language": "python",
   "name": "python3"
  },
  "language_info": {
   "codemirror_mode": {
    "name": "ipython",
    "version": 3
   },
   "file_extension": ".py",
   "mimetype": "text/x-python",
   "name": "python",
   "nbconvert_exporter": "python",
   "pygments_lexer": "ipython3",
   "version": "3.10.12"
  }
 },
 "nbformat": 4,
 "nbformat_minor": 5
}
